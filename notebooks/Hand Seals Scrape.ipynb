{
 "cells": [
  {
   "cell_type": "code",
   "execution_count": 2,
   "metadata": {},
   "outputs": [],
   "source": [
    "from bs4 import BeautifulSoup\n",
    "import requests"
   ]
  },
  {
   "cell_type": "code",
   "execution_count": 3,
   "metadata": {},
   "outputs": [],
   "source": [
    "URL = \"https://naruto.fandom.com/wiki/Fire_Release:_Demon_Lantern\"\n",
    "URL_ALL = \"https://naruto.fandom.com/wiki/Category:Jutsu\"\n",
    "\n",
    "page = requests.get(URL)\n",
    "page_all = requests.get(URL_ALL)"
   ]
  },
  {
   "cell_type": "code",
   "execution_count": 4,
   "metadata": {},
   "outputs": [],
   "source": [
    "soup = BeautifulSoup(page.content, \"html.parser\")\n",
    "soup_all = BeautifulSoup(page_all.content, \"html.parser\")"
   ]
  },
  {
   "cell_type": "code",
   "execution_count": 32,
   "metadata": {},
   "outputs": [
    {
     "name": "stdout",
     "output_type": "stream",
     "text": [
      "/wiki/Category:Policy\n",
      "/wiki/Narutopedia:Naming_policy\n",
      "/wiki/Narutopedia:Writing_policy\n",
      "/wiki/Narutopedia:Image_policy\n",
      "/wiki/Narutopedia:Quotes_policy\n",
      "/wiki/Narutopedia:Userpage_policy\n",
      "/wiki/Narutopedia:Talkpage_policy\n",
      "/wiki/Narutopedia:Three-revert_rule\n",
      "/wiki/Special:Search\n",
      "/wiki/Special:Search\n",
      "/wiki/Special:Search\n",
      "/wiki/Special:Search\n",
      "/wiki/Category:Policy\n",
      "/wiki/Narutopedia:Naming_policy\n",
      "/wiki/Narutopedia:Writing_policy\n",
      "/wiki/Narutopedia:Image_policy\n",
      "/wiki/Narutopedia:Quotes_policy\n",
      "/wiki/Narutopedia:Userpage_policy\n",
      "/wiki/Narutopedia:Talkpage_policy\n",
      "/wiki/Narutopedia:Three-revert_rule\n",
      "/wiki/Category:Jutsu?action=edit\n",
      "/wiki/Category:Naruto\n",
      "/wiki/Category:Jutsu?action=edit\n",
      "/wiki/Category:Jutsu?action=history\n",
      "/wiki/Category_talk:Jutsu\n",
      "/wiki/Special:BrowseData/Jutsu\n",
      "/wiki/Jutsu\n",
      "/wiki/Form:Jutsu\n",
      "/wiki/Special:BrowseData/Jutsu\n",
      "/wiki/Property:Appears_in\n",
      "/wiki/Property:Jutsu_classification\n",
      "/wiki/Property:Chakra_Nature\n",
      "/wiki/Category:Chakra_Natures\n",
      "/wiki/Property:Jutsu_range\n",
      "/wiki/Property:Jutsu_rank\n",
      "/wiki/Property:Clan\n",
      "/wiki/Category:Clans\n",
      "/wiki/Six_Paths_of_Pain\n",
      "/wiki/Susanoo\n",
      "/wiki/Eight_Gates\n",
      "/wiki/Flying_Thunder_God_Technique\n",
      "/wiki/Sage_Mode\n",
      "/wiki/Summoning:_Impure_World_Reincarnation\n",
      "/wiki/Shinra_Tensei\n",
      "/wiki/Rasengan\n",
      "/wiki/10_Hit_Combo\n",
      "/wiki/10_Hit_Combo\n",
      "/wiki/100_Metre_Punch\n",
      "/wiki/100_Metre_Punch\n",
      "/wiki/100%25_Single_Punch\n",
      "/wiki/1000_Metre_Punch\n",
      "/wiki/1000_Metre_Punch\n",
      "/wiki/16_Hit_Combo\n",
      "/wiki/16_Hit_Combo\n",
      "/wiki/Absolute:_Fang_Passing_Fang\n",
      "/wiki/Absolute:_Fang_Passing_Fang\n",
      "/wiki/Absorption_Sphere\n",
      "/wiki/Absorption_Sphere\n",
      "/wiki/Accelerated_Armed_Revolving_Heaven\n",
      "/wiki/Accelerated_Armed_Revolving_Heaven\n",
      "/wiki/Acid_Permeation\n",
      "/wiki/Acid_Permeation\n",
      "/wiki/Acidic_Sludge\n",
      "/wiki/Acidic_Sludge\n",
      "/wiki/Acrobat\n",
      "/wiki/Acrobat\n",
      "/wiki/Adamantine_Power:_Acala\n",
      "/wiki/Adamantine_Power:_Acala\n",
      "/wiki/Adamantine_Prison_Wall\n",
      "/wiki/Adamantine_Prison_Wall\n",
      "/wiki/Adamantine_Seal:_Monkey_Yang_Suppression\n",
      "/wiki/Adamantine_Seal:_Monkey_Yang_Suppression\n",
      "/wiki/Adamantine_Sealing_Chains\n",
      "/wiki/Adamantine_Sealing_Chains\n",
      "/wiki/Adamantine_Sealing_Chains:_Spiral_Formation\n",
      "/wiki/Adamantine_Technique:_Cranium_Crusher\n",
      "/wiki/Adamantine_Technique:_Cranium_Crusher\n",
      "/wiki/Aerobatic_Strike\n",
      "/wiki/Afterglow\n",
      "/wiki/Afterglow\n",
      "/wiki/Afterimage_Clone\n",
      "/wiki/Afterimage_Clone\n",
      "/wiki/Agonizing_Thorn_Technique_(Simply_Put_a_Kanch%C5%8D)\n",
      "/wiki/Air_Gold_Dust_Protective_Wall\n",
      "/wiki/Air_Gold_Dust_Protective_Wall\n",
      "/wiki/Air_Lightning_Bullet\n",
      "/wiki/Air_Lightning_Strike\n",
      "/wiki/Air_Lightning_Strike\n",
      "/wiki/Air_Raid_Shot\n",
      "/wiki/Air_Sand_Protective_Wall\n",
      "/wiki/Air_Sand_Protective_Wall\n",
      "/wiki/Akuta\n",
      "/wiki/Akuta\n",
      "/wiki/Alder\n",
      "/wiki/Alder\n",
      "/wiki/All_Directions_Shuriken\n",
      "/wiki/All_Directions_Shuriken\n",
      "/wiki/All_is_Suffering\n",
      "/wiki/All_is_Suffering\n",
      "/wiki/All_Weapons_Above_Heaven\n",
      "/wiki/All-Killing_Ash_Bones\n",
      "/wiki/All-Killing_Ash_Bones\n",
      "/wiki/Allied_Shinobi_Forces_Technique\n",
      "/wiki/Allied_Shinobi_Forces_Technique\n",
      "/wiki/Almighty_Sakura\n",
      "/wiki/Altering_Terrain_Technique\n",
      "/wiki/Altering_Terrain_Technique\n",
      "/wiki/Amanohabaya\n",
      "/wiki/Amaterasu\n",
      "/wiki/Amaterasu\n",
      "/wiki/Amaterasu:_Dual_Layer\n",
      "/wiki/Amaterasu:_Flame_Wrapping_Fire\n",
      "/wiki/Amaterasu:_Flame_Wrapping_Fire\n",
      "/wiki/Amaterasu:_Lingering_Fire\n",
      "/wiki/Amaterasu:_Lingering_Fire\n",
      "/wiki/Amaterasu:_Wailing_Sky\n",
      "/wiki/Ame_no_Ohabari\n",
      "/wiki/Ame_no_Ohabari\n",
      "/wiki/Amenomihashira\n",
      "/wiki/Amenomihashira\n",
      "/wiki/Amenominaka\n",
      "/wiki/Amenominaka\n",
      "/wiki/Amenosubaruboshinomikoto\n",
      "/wiki/Amenosubaruboshinomikoto\n",
      "/wiki/Amenosubaruboshinomikoto:_Gyokk%C5%8D\n",
      "/wiki/Amenosubaruboshinomikoto:_Gyokk%C5%8D\n",
      "/wiki/Amenosubaruboshinomikoto:_Ry%C5%ABg%C5%AB\n",
      "/wiki/Amenosubaruboshinomikoto:_Ry%C5%ABg%C5%AB\n",
      "/wiki/Amenotejikara\n",
      "/wiki/Amenotejikara\n",
      "/wiki/Amenotejikara:_Chidori\n",
      "/wiki/Amenotejikara:_Chidori\n",
      "/wiki/Amenotejikara:_Instant\n",
      "/wiki/Amenotejikara:_Instant\n",
      "/wiki/Amplification_Summoning_Technique\n",
      "/wiki/Amplification_Summoning_Technique\n",
      "/wiki/Amputation_Punishment\n",
      "/wiki/Anger_of_the_Sky_and_the_Cherry_Blossom_and_the_Earth\n",
      "/wiki/Anger_of_the_Sky_and_the_Cherry_Blossom_and_the_Earth\n",
      "/wiki/Animal_Cursed_Seal\n",
      "/wiki/Animal_Cursed_Seal\n",
      "/wiki/Animal_Path\n",
      "/wiki/Animal_Path\n",
      "/wiki/Ankorod%C5%8D_Hiden_Ninjutsu:_Mochi_Release:_Infinite_Dumplings\n",
      "/wiki/Ankorod%C5%8D_Hiden_Ninjutsu:_Mochi_Release:_Infinite_Dumplings\n",
      "/wiki/Annihilation\n",
      "/wiki/Annihilation\n",
      "/wiki/Antlion_Ninja_Arts:_Ephemeral\n",
      "/wiki/Antlion_Ninja_Arts:_Ephemeral\n",
      "/wiki/An%C4%81tman\n",
      "/wiki/Apricot_Blossom_Droop\n",
      "/wiki/Apricot_Blossom_Droop\n",
      "/wiki/Aqua_Shoot\n",
      "/wiki/Area_Scanning_Technique\n",
      "/wiki/Area_Scanning_Technique\n",
      "/wiki/Arhat_Fist\n",
      "/wiki/Arhat_Fist\n",
      "/wiki/Arm_Growth_Technique\n",
      "/wiki/Arm_Growth_Technique\n",
      "/wiki/Arm_of_Shukaku\n",
      "/wiki/Arm_of_Shukaku\n",
      "/wiki/Armageddon_Countdown_Clock\n",
      "/wiki/Armageddon_Countdown_Clock\n",
      "/wiki/Armour_of_Sand\n",
      "/wiki/Armour_of_Sand\n",
      "/wiki/Armour_of_Sticky_Gold\n",
      "/wiki/Armour_of_Sticky_Gold\n",
      "/wiki/Armour-Eater\n",
      "/wiki/Armour-Eater\n",
      "/wiki/Art_(jutsu)\n",
      "/wiki/Art_(jutsu)\n",
      "/wiki/Assassination_Technique\n",
      "/wiki/Assassination_Technique\n",
      "/wiki/Assimilate_All_Creation_Technique\n",
      "/wiki/Assimilate_All_Creation_Technique\n",
      "/wiki/Assimilation:_Rock_Blizzard\n",
      "/wiki/Assimilation:_Rock_Blizzard\n",
      "/wiki/Assimilation:_Rock_Tank\n",
      "/wiki/Assimilation:_Rock_Tank\n",
      "/wiki/Assimilation:_Sand_Binding_Coffin\n",
      "/wiki/Assimilation:_Sand_Binding_Coffin\n",
      "/wiki/Assimilation:_Sand_Waterfall_Funeral\n",
      "/wiki/Assimilation:_Sand_Waterfall_Funeral\n",
      "/wiki/Asura_Attack\n",
      "/wiki/Asura_Attack\n",
      "/wiki/Asura_Path\n",
      "/wiki/Asura_Path\n",
      "/wiki/Attack_of_the_Twin_Demons\n",
      "/wiki/Attack_of_the_Twin_Demons\n",
      "/wiki/Avalanche_Dance\n",
      "/wiki/Azure_Stream\n",
      "/wiki/Azure_Stream\n",
      "/wiki/Ball_of_Light_Technique\n",
      "/wiki/Ball_of_Light_Technique\n",
      "/wiki/Ballistic_Waterwheel\n",
      "/wiki/Ballistic_Waterwheel\n",
      "/wiki/Bando%27s_Chakra_Armour\n",
      "/wiki/Bando%27s_Chakra_Armour\n",
      "/wiki/Bansh%C5%8D_Kokuin\n",
      "/wiki/Bansh%C5%8D_Ten%27in\n",
      "/wiki/Bansh%C5%8D_Ten%27in\n",
      "/wiki/Barrage_of_Gentle_Fists\n",
      "/wiki/Barrage_of_Gentle_Fists\n",
      "/wiki/Barrier_Gate_Five_Seals_Technique:_Castle_Closing_Eight_Gates\n",
      "/wiki/Barrier_Gate_Five_Seals_Technique:_Castle_Closing_Eight_Gates\n",
      "/wiki/Barrier_Method_Formation\n",
      "/wiki/Barrier_Method_Formation\n",
      "/wiki/Barrier_Method_Formation_%E2%80%94_Triple_Formula\n",
      "/wiki/Barrier_Releasing_Technique\n",
      "/wiki/Barrier_Releasing_Technique\n",
      "/wiki/Barrier_Shattering_Technique\n",
      "/wiki/Barrier_Shattering_Technique\n",
      "/wiki/Barrier_Talisman:_Armoured_Eye\n",
      "/wiki/Barrier_Talisman:_Armoured_Eye\n",
      "/wiki/Barrier:_Canopy_Method_Formation\n",
      "/wiki/Barrier:_Canopy_Method_Formation\n",
      "/wiki/Barrier:_Reclose_Technique\n",
      "/wiki/Barrier:_Reclose_Technique\n",
      "/wiki/Barrier:_Toad_Gourd_Prison\n",
      "/wiki/Barrier:_Toad_Gourd_Prison\n",
      "/wiki/Baryon_Bullet_Barrage\n",
      "/wiki/Baryon_Mode\n",
      "/wiki/Baryon_Mode\n",
      "/wiki/Baryon_Rasengan\n",
      "/wiki/Baryon_Rasengan\n",
      "/wiki/Baryon_Rasengan:_Heaven_Pierce\n",
      "/wiki/Baryon_Tail_Breaker\n",
      "/wiki/Baryon_Tail_Breaker\n",
      "/wiki/Baryon:_Scarlet_Flash\n",
      "/wiki/Bash%C5%8Dsen:_Coil_of_Earth\n",
      "/wiki/Bash%C5%8Dsen:_Coil_of_Earth\n",
      "/wiki/Bash%C5%8Dsen:_Coil_of_Fire\n",
      "/wiki/Bash%C5%8Dsen:_Coil_of_Fire\n",
      "/wiki/Bash%C5%8Dsen:_Coil_of_Lightning\n",
      "/wiki/Bash%C5%8Dsen:_Coil_of_Lightning\n",
      "/wiki/Bash%C5%8Dsen:_Coil_of_Water\n",
      "/wiki/Bash%C5%8Dsen:_Coil_of_Water\n",
      "/wiki/Bash%C5%8Dsen:_Coil_of_Wind\n",
      "/wiki/Bash%C5%8Dsen:_Coil_of_Wind\n",
      "/wiki/Bat_Controlling\n",
      "/wiki/Bat_Controlling\n",
      "/wiki/Bat_Controlling:_Ultrasonic_Mind_Waves\n",
      "/wiki/Bat_Controlling:_Ultrasonic_Mind_Waves\n",
      "/wiki/Batt%C5%8Djutsu\n",
      "/wiki/Batt%C5%8Djutsu\n",
      "/wiki/Beast_Human_Clone\n",
      "/wiki/Beast_Human_Clone\n",
      "/wiki/Beast_Sealing_Technique\n",
      "/wiki/Beast_Sealing_Technique\n",
      "/wiki/Beast_Tearing_Gale_Palm\n",
      "/wiki/Beast_Tearing_Gale_Palm\n",
      "/wiki/Beast_Tearing_Palm\n",
      "/wiki/Beast_Tearing_Palm\n",
      "/wiki/Beast-Human_Fury_Kicks\n",
      "/wiki/Beast-Human_Needle_Senbon\n",
      "/wiki/Bee_Bomb_Technique\n",
      "/wiki/Bee_Bomb_Technique\n",
      "/wiki/Bee_Honey_Technique\n",
      "/wiki/Bee_Honey_Technique\n",
      "/wiki/Beeswax_Clone\n",
      "/wiki/Beeswax_Clone\n",
      "/wiki/Beheading_Prison_Chop\n",
      "/wiki/Beigoma\n",
      "/wiki/Bell_Barrier_Technique\n",
      "/wiki/Bell_Barrier_Technique\n",
      "/wiki/Bell-Flowered_Lightning_Blade\n",
      "/wiki/Bell-Flowered_Lightning_Blade\n",
      "/wiki/Big_Ball_Rasengan\n",
      "/wiki/Big_Ball_Rasengan\n",
      "/wiki/Big_Ball_Rasengan:_Rising_Attack\n",
      "/wiki/Big_Ball_Rasengan:_Rising_Attack\n",
      "/wiki/Big_Ball_Rasenshuriken\n",
      "/wiki/Big_Ball_Rasenshuriken\n",
      "/wiki/Big_Ball_Spiralling_Serial_Spheres\n",
      "/wiki/Big_Ball_Spiralling_Serial_Zone_Spheres\n",
      "/wiki/Big_Ball_Spiralling_Serial_Zone_Spheres\n",
      "/wiki/Big_Ball:_Tailed_Beast_Rasenshuriken\n",
      "/wiki/Big_Powder_Bang\n",
      "/wiki/Big_Truth-Seeking_Ball\n",
      "/wiki/Biguro\n",
      "/wiki/Biguro\n",
      "/wiki/Binding_Smoke_Prison\n",
      "/wiki/Binding_Smoke_Prison\n",
      "/wiki/Binding_Snake_Glare_Spell\n",
      "/wiki/Binding_Snake_Glare_Spell\n",
      "/wiki/Biting_Cut\n",
      "/wiki/Biting_Cut\n",
      "/wiki/Black_Dream\n",
      "/wiki/Black_Dream\n",
      "/wiki/Black_Holy_Hammer\n",
      "/wiki/Black_Iron_Fist\n",
      "/wiki/Black_Iron_Fist\n",
      "/wiki/Black_Lightning\n",
      "/wiki/Black_Lightning\n",
      "/wiki/Black_Needle_Stab\n",
      "/wiki/Black_Passing_Secret_Fang_Technique_Machine_One_Shot\n",
      "/wiki/Black_Passing_Secret_Fang_Technique_Machine_One_Shot\n",
      "/wiki/Black_Rain\n",
      "/wiki/Black_Rain\n",
      "/wiki/Black_Receiver\n",
      "/wiki/Black_Receiver\n",
      "/wiki/Black_Secret_Technique_Flame_Filling_Flower\n",
      "/wiki/Black_Secret_Technique_Flame_Filling_Flower\n",
      "/wiki/Black_Secret_Technique_Machine_One_Shot\n",
      "/wiki/Black_Secret_Technique_Machine_One_Shot\n",
      "/wiki/Black_Secret_Technique_Machine_Two_Shot\n",
      "/wiki/Black_Secret_Technique_Machine_Two_Shot\n",
      "/wiki/Black_Secret_Technique_Manipulated_Flame_Scorpion_Play\n",
      "/wiki/Black_Secret_Technique_Manipulated_Flame_Scorpion_Play\n",
      "/wiki/Black_Secret_Technique_%E2%80%94_Machine_Triple_Shot\n",
      "/wiki/Black_Secret_Technique_%E2%80%94_Machine_Triple_Shot\n",
      "/wiki/Black_Secret_Technique:_Black_Iron\n",
      "/wiki/Black_Secret_Technique:_Black_Iron\n",
      "/wiki/Black_Secret_Technique_Revolving_Flame_Arson\n",
      "/wiki/Black_Secret_Technique_Revolving_Flame_Arson\n",
      "/wiki/Black_Secret_Technique:_Salamander\n",
      "/wiki/Black_Secret_Technique:_Salamander\n",
      "/wiki/Black_Secret_Technique:_Three_Great_Ky%C5%8Dgen\n",
      "/wiki/Black_Secret_Technique:_Three_Great_Ky%C5%8Dgen\n",
      "/wiki/Black_Secret_Technique:_Three_Great_Tragedies\n",
      "/wiki/Black_Secret_Technique:_Three_Great_Tragedies\n",
      "/wiki/Black_Spider_Lily\n",
      "/wiki/Black_Spider_Lily\n",
      "/wiki/Black_Tornado\n",
      "/wiki/Black_Tornado\n",
      "/wiki/Blade_Concealed_in_Glamour\n",
      "/wiki/Blade_of_Wind\n",
      "/wiki/Blade_of_Wind\n",
      "/wiki/Blade_of_Wind_Barrage\n",
      "/wiki/Blade_of_Wind_Barrage\n",
      "/wiki/Blade_of_Wind_Hurricane\n",
      "/wiki/Blade_of_Wind_Hurricane\n",
      "/wiki/Blasting_Ice_Crystal\n",
      "/wiki/Blasting_Ice_Crystal\n",
      "/wiki/Blastsword_Technique:_Blasting_Bridle_Repeating_Death\n",
      "/wiki/Blastsword_Technique:_Blasting_Bridle_Repeating_Death\n",
      "/wiki/Blastsword:_Earth_Rupture\n",
      "/wiki/Blastsword:_Earth_Rupture\n",
      "/wiki/Blaze_Release:_Dragon_Flame_Release_Song_Technique\n",
      "/wiki/Blaze_Release:_Flame_Formation_Wall_Technique\n",
      "/wiki/Blaze_Release:_Great_Fireball_Technique\n",
      "/wiki/Blaze_Release:_Great_Fireball_Technique\n",
      "/wiki/Blaze_Release:_Honoikazuchi\n",
      "/wiki/Blaze_Release:_Honoikazuchi\n",
      "/wiki/Blaze_Release:_Kagutsuchi\n",
      "/wiki/Blaze_Release:_Kagutsuchi\n",
      "/wiki/Blaze_Release:_Kagutsuchi_%E2%80%94_Flying_Flame\n",
      "/wiki/Blaze_Release:_Kagutsuchi_%E2%80%94_Flying_Flame\n",
      "/wiki/Blaze_Release:_Kagutsuchi_%E2%80%94_Heaven_Step\n",
      "/wiki/Blaze_Release:_Kagutsuchi_%E2%80%94_Heaven_Step\n",
      "/wiki/Blaze_Release:_Kagutsuchi_%E2%80%94_Porcupine\n",
      "/wiki/Blaze_Release:_Kagutsuchi_%E2%80%94_Porcupine\n",
      "/wiki/Blaze_Release:_Susanoo_Kagutsuchi\n",
      "/wiki/Blaze_Release:_Susanoo_Kagutsuchi\n",
      "/wiki/Blaze_Release:_Susanoo_%C5%8Cdachi\n",
      "/wiki/Blaze_Release:_Yasaka_Magatama\n",
      "/wiki/Blaze_Release:_Yasaka_Magatama\n",
      "/wiki/Blazing_Lightning_Kunai\n",
      "/wiki/Blazing_Lightning_Kunai\n",
      "/wiki/Blazing_Shuriken_Dance\n",
      "/wiki/Blazing_Shuriken_Dance\n",
      "/wiki/Blinding_Bubbles_Technique\n",
      "/wiki/Blinding_Bubbles_Technique\n",
      "/wiki/Blinding_Wide_Sand_Formation:_Noise\n",
      "/wiki/Blinding_Wide_Sand_Formation:_Noise\n",
      "/wiki/Blocking_Technique_Absorption_Seal\n",
      "/wiki/Blocking_Technique_Absorption_Seal\n",
      "/wiki/Blood_Dragon_Ascension\n",
      "/wiki/Blood_Dragon_Ascension\n",
      "/wiki/Blood_Needle\n",
      "/wiki/Blood_Needle\n",
      "/wiki/Blood_Transformation_Technique\n",
      "/wiki/Blood_Transformation_Technique\n",
      "/wiki/Bloody_Mist_Absorption_Technique\n",
      "/wiki/Bloody_Mist_Absorption_Technique\n",
      "/wiki/Bloody_Mist_Sword_Art:_Bone_Mutilation\n",
      "/wiki/Bloody_Mist_Sword_Art:_Bone_Mutilation\n",
      "/wiki/Bluntsword:_Spin_Strike\n",
      "/wiki/Bluntsword:_Spin_Strike\n",
      "/wiki/Body_Alteration\n",
      "/wiki/Body_Alteration\n",
      "/wiki/Body_Coating\n",
      "/wiki/Body_Coating\n",
      "/wiki/Body_Controlling_Technique\n",
      "/wiki/Body_Controlling_Technique\n",
      "/wiki/Body_Elimination_Technique\n",
      "/wiki/Body_Elimination_Technique\n",
      "/wiki/Body_Flicker_Technique\n",
      "/wiki/Body_Flicker_Technique\n",
      "/wiki/Body_Fluid_Shedding_Technique\n",
      "/wiki/Body_Fluid_Shedding_Technique\n",
      "/wiki/Body_Oxidation_Technique\n",
      "/wiki/Body_Oxidation_Technique\n",
      "/wiki/Body_Pathway_Derangement\n",
      "/wiki/Body_Pathway_Derangement\n",
      "/wiki/Body_Recreation_Technique\n",
      "/wiki/Body_Recreation_Technique\n",
      "/wiki/Body_Replacement_Technique\n",
      "/wiki/Body_Replacement_Technique\n",
      "/wiki/Body_Revival_Technique\n",
      "/wiki/Body_Revival_Technique\n",
      "/wiki/Boil_Release:_Flower_Repentance_Technique\n",
      "/wiki/Boil_Release:_Flower_Repentance_Technique\n",
      "/wiki/Boil_Release:_Skilled_Mist_Technique\n",
      "/wiki/Boil_Release:_Skilled_Mist_Technique\n",
      "/wiki/Boil_Release:_Steam_Explosion\n",
      "/wiki/Boil_Release:_Steam_Explosion\n",
      "/wiki/Boil_Release:_Unrivalled_Strength\n",
      "/wiki/Boil_Release:_Unrivalled_Strength\n",
      "/wiki/Bolting_Blossom\n",
      "/wiki/Special:Categories\n",
      "/wiki/Category:Naruto\n",
      "/wiki/Local_Sitemap\n"
     ]
    }
   ],
   "source": [
    "# extracts relevant links from page \n",
    "''' https://stackoverflow.com/questions/5815747/beautifulsoup-getting-href '''\n",
    "\n",
    "# print(soup_all.prettify())\n",
    "\n",
    "a_tags = soup_all.find_all('a', href = True)\n",
    "\n",
    "# print(a_tags)\n",
    "\n",
    "link_list = []\n",
    "def left(s, amount):\n",
    "    return s[:amount]\n",
    "    \n",
    "for a in soup_all.find_all('a', href = True):\n",
    "    if left(a['href'],4) == '/wik':\n",
    "        print(a['href'])\n",
    "        link_list.append(a['href'])\n",
    "    else:\n",
    "        pass"
   ]
  },
  {
   "cell_type": "code",
   "execution_count": 33,
   "metadata": {},
   "outputs": [
    {
     "name": "stdout",
     "output_type": "stream",
     "text": [
      "['/wiki/Category:Policy', '/wiki/Narutopedia:Naming_policy', '/wiki/Narutopedia:Writing_policy', '/wiki/Narutopedia:Image_policy', '/wiki/Narutopedia:Quotes_policy', '/wiki/Narutopedia:Userpage_policy', '/wiki/Narutopedia:Talkpage_policy', '/wiki/Narutopedia:Three-revert_rule', '/wiki/Special:Search', '/wiki/Special:Search', '/wiki/Special:Search', '/wiki/Special:Search', '/wiki/Category:Policy', '/wiki/Narutopedia:Naming_policy', '/wiki/Narutopedia:Writing_policy', '/wiki/Narutopedia:Image_policy', '/wiki/Narutopedia:Quotes_policy', '/wiki/Narutopedia:Userpage_policy', '/wiki/Narutopedia:Talkpage_policy', '/wiki/Narutopedia:Three-revert_rule', '/wiki/Category:Jutsu?action=edit', '/wiki/Category:Naruto', '/wiki/Category:Jutsu?action=edit', '/wiki/Category:Jutsu?action=history', '/wiki/Category_talk:Jutsu', '/wiki/Special:BrowseData/Jutsu', '/wiki/Jutsu', '/wiki/Form:Jutsu', '/wiki/Special:BrowseData/Jutsu', '/wiki/Property:Appears_in', '/wiki/Property:Jutsu_classification', '/wiki/Property:Chakra_Nature', '/wiki/Category:Chakra_Natures', '/wiki/Property:Jutsu_range', '/wiki/Property:Jutsu_rank', '/wiki/Property:Clan', '/wiki/Category:Clans', '/wiki/Six_Paths_of_Pain', '/wiki/Susanoo', '/wiki/Eight_Gates', '/wiki/Flying_Thunder_God_Technique', '/wiki/Sage_Mode', '/wiki/Summoning:_Impure_World_Reincarnation', '/wiki/Shinra_Tensei', '/wiki/Rasengan', '/wiki/10_Hit_Combo', '/wiki/10_Hit_Combo', '/wiki/100_Metre_Punch', '/wiki/100_Metre_Punch', '/wiki/100%25_Single_Punch', '/wiki/1000_Metre_Punch', '/wiki/1000_Metre_Punch', '/wiki/16_Hit_Combo', '/wiki/16_Hit_Combo', '/wiki/Absolute:_Fang_Passing_Fang', '/wiki/Absolute:_Fang_Passing_Fang', '/wiki/Absorption_Sphere', '/wiki/Absorption_Sphere', '/wiki/Accelerated_Armed_Revolving_Heaven', '/wiki/Accelerated_Armed_Revolving_Heaven', '/wiki/Acid_Permeation', '/wiki/Acid_Permeation', '/wiki/Acidic_Sludge', '/wiki/Acidic_Sludge', '/wiki/Acrobat', '/wiki/Acrobat', '/wiki/Adamantine_Power:_Acala', '/wiki/Adamantine_Power:_Acala', '/wiki/Adamantine_Prison_Wall', '/wiki/Adamantine_Prison_Wall', '/wiki/Adamantine_Seal:_Monkey_Yang_Suppression', '/wiki/Adamantine_Seal:_Monkey_Yang_Suppression', '/wiki/Adamantine_Sealing_Chains', '/wiki/Adamantine_Sealing_Chains', '/wiki/Adamantine_Sealing_Chains:_Spiral_Formation', '/wiki/Adamantine_Technique:_Cranium_Crusher', '/wiki/Adamantine_Technique:_Cranium_Crusher', '/wiki/Aerobatic_Strike', '/wiki/Afterglow', '/wiki/Afterglow', '/wiki/Afterimage_Clone', '/wiki/Afterimage_Clone', '/wiki/Agonizing_Thorn_Technique_(Simply_Put_a_Kanch%C5%8D)', '/wiki/Air_Gold_Dust_Protective_Wall', '/wiki/Air_Gold_Dust_Protective_Wall', '/wiki/Air_Lightning_Bullet', '/wiki/Air_Lightning_Strike', '/wiki/Air_Lightning_Strike', '/wiki/Air_Raid_Shot', '/wiki/Air_Sand_Protective_Wall', '/wiki/Air_Sand_Protective_Wall', '/wiki/Akuta', '/wiki/Akuta', '/wiki/Alder', '/wiki/Alder', '/wiki/All_Directions_Shuriken', '/wiki/All_Directions_Shuriken', '/wiki/All_is_Suffering', '/wiki/All_is_Suffering', '/wiki/All_Weapons_Above_Heaven', '/wiki/All-Killing_Ash_Bones', '/wiki/All-Killing_Ash_Bones', '/wiki/Allied_Shinobi_Forces_Technique', '/wiki/Allied_Shinobi_Forces_Technique', '/wiki/Almighty_Sakura', '/wiki/Altering_Terrain_Technique', '/wiki/Altering_Terrain_Technique', '/wiki/Amanohabaya', '/wiki/Amaterasu', '/wiki/Amaterasu', '/wiki/Amaterasu:_Dual_Layer', '/wiki/Amaterasu:_Flame_Wrapping_Fire', '/wiki/Amaterasu:_Flame_Wrapping_Fire', '/wiki/Amaterasu:_Lingering_Fire', '/wiki/Amaterasu:_Lingering_Fire', '/wiki/Amaterasu:_Wailing_Sky', '/wiki/Ame_no_Ohabari', '/wiki/Ame_no_Ohabari', '/wiki/Amenomihashira', '/wiki/Amenomihashira', '/wiki/Amenominaka', '/wiki/Amenominaka', '/wiki/Amenosubaruboshinomikoto', '/wiki/Amenosubaruboshinomikoto', '/wiki/Amenosubaruboshinomikoto:_Gyokk%C5%8D', '/wiki/Amenosubaruboshinomikoto:_Gyokk%C5%8D', '/wiki/Amenosubaruboshinomikoto:_Ry%C5%ABg%C5%AB', '/wiki/Amenosubaruboshinomikoto:_Ry%C5%ABg%C5%AB', '/wiki/Amenotejikara', '/wiki/Amenotejikara', '/wiki/Amenotejikara:_Chidori', '/wiki/Amenotejikara:_Chidori', '/wiki/Amenotejikara:_Instant', '/wiki/Amenotejikara:_Instant', '/wiki/Amplification_Summoning_Technique', '/wiki/Amplification_Summoning_Technique', '/wiki/Amputation_Punishment', '/wiki/Anger_of_the_Sky_and_the_Cherry_Blossom_and_the_Earth', '/wiki/Anger_of_the_Sky_and_the_Cherry_Blossom_and_the_Earth', '/wiki/Animal_Cursed_Seal', '/wiki/Animal_Cursed_Seal', '/wiki/Animal_Path', '/wiki/Animal_Path', '/wiki/Ankorod%C5%8D_Hiden_Ninjutsu:_Mochi_Release:_Infinite_Dumplings', '/wiki/Ankorod%C5%8D_Hiden_Ninjutsu:_Mochi_Release:_Infinite_Dumplings', '/wiki/Annihilation', '/wiki/Annihilation', '/wiki/Antlion_Ninja_Arts:_Ephemeral', '/wiki/Antlion_Ninja_Arts:_Ephemeral', '/wiki/An%C4%81tman', '/wiki/Apricot_Blossom_Droop', '/wiki/Apricot_Blossom_Droop', '/wiki/Aqua_Shoot', '/wiki/Area_Scanning_Technique', '/wiki/Area_Scanning_Technique', '/wiki/Arhat_Fist', '/wiki/Arhat_Fist', '/wiki/Arm_Growth_Technique', '/wiki/Arm_Growth_Technique', '/wiki/Arm_of_Shukaku', '/wiki/Arm_of_Shukaku', '/wiki/Armageddon_Countdown_Clock', '/wiki/Armageddon_Countdown_Clock', '/wiki/Armour_of_Sand', '/wiki/Armour_of_Sand', '/wiki/Armour_of_Sticky_Gold', '/wiki/Armour_of_Sticky_Gold', '/wiki/Armour-Eater', '/wiki/Armour-Eater', '/wiki/Art_(jutsu)', '/wiki/Art_(jutsu)', '/wiki/Assassination_Technique', '/wiki/Assassination_Technique', '/wiki/Assimilate_All_Creation_Technique', '/wiki/Assimilate_All_Creation_Technique', '/wiki/Assimilation:_Rock_Blizzard', '/wiki/Assimilation:_Rock_Blizzard', '/wiki/Assimilation:_Rock_Tank', '/wiki/Assimilation:_Rock_Tank', '/wiki/Assimilation:_Sand_Binding_Coffin', '/wiki/Assimilation:_Sand_Binding_Coffin', '/wiki/Assimilation:_Sand_Waterfall_Funeral', '/wiki/Assimilation:_Sand_Waterfall_Funeral', '/wiki/Asura_Attack', '/wiki/Asura_Attack', '/wiki/Asura_Path', '/wiki/Asura_Path', '/wiki/Attack_of_the_Twin_Demons', '/wiki/Attack_of_the_Twin_Demons', '/wiki/Avalanche_Dance', '/wiki/Azure_Stream', '/wiki/Azure_Stream', '/wiki/Ball_of_Light_Technique', '/wiki/Ball_of_Light_Technique', '/wiki/Ballistic_Waterwheel', '/wiki/Ballistic_Waterwheel', '/wiki/Bando%27s_Chakra_Armour', '/wiki/Bando%27s_Chakra_Armour', '/wiki/Bansh%C5%8D_Kokuin', '/wiki/Bansh%C5%8D_Ten%27in', '/wiki/Bansh%C5%8D_Ten%27in', '/wiki/Barrage_of_Gentle_Fists', '/wiki/Barrage_of_Gentle_Fists', '/wiki/Barrier_Gate_Five_Seals_Technique:_Castle_Closing_Eight_Gates', '/wiki/Barrier_Gate_Five_Seals_Technique:_Castle_Closing_Eight_Gates', '/wiki/Barrier_Method_Formation', '/wiki/Barrier_Method_Formation', '/wiki/Barrier_Method_Formation_%E2%80%94_Triple_Formula', '/wiki/Barrier_Releasing_Technique', '/wiki/Barrier_Releasing_Technique', '/wiki/Barrier_Shattering_Technique', '/wiki/Barrier_Shattering_Technique', '/wiki/Barrier_Talisman:_Armoured_Eye', '/wiki/Barrier_Talisman:_Armoured_Eye', '/wiki/Barrier:_Canopy_Method_Formation', '/wiki/Barrier:_Canopy_Method_Formation', '/wiki/Barrier:_Reclose_Technique', '/wiki/Barrier:_Reclose_Technique', '/wiki/Barrier:_Toad_Gourd_Prison', '/wiki/Barrier:_Toad_Gourd_Prison', '/wiki/Baryon_Bullet_Barrage', '/wiki/Baryon_Mode', '/wiki/Baryon_Mode', '/wiki/Baryon_Rasengan', '/wiki/Baryon_Rasengan', '/wiki/Baryon_Rasengan:_Heaven_Pierce', '/wiki/Baryon_Tail_Breaker', '/wiki/Baryon_Tail_Breaker', '/wiki/Baryon:_Scarlet_Flash', '/wiki/Bash%C5%8Dsen:_Coil_of_Earth', '/wiki/Bash%C5%8Dsen:_Coil_of_Earth', '/wiki/Bash%C5%8Dsen:_Coil_of_Fire', '/wiki/Bash%C5%8Dsen:_Coil_of_Fire', '/wiki/Bash%C5%8Dsen:_Coil_of_Lightning', '/wiki/Bash%C5%8Dsen:_Coil_of_Lightning', '/wiki/Bash%C5%8Dsen:_Coil_of_Water', '/wiki/Bash%C5%8Dsen:_Coil_of_Water', '/wiki/Bash%C5%8Dsen:_Coil_of_Wind', '/wiki/Bash%C5%8Dsen:_Coil_of_Wind', '/wiki/Bat_Controlling', '/wiki/Bat_Controlling', '/wiki/Bat_Controlling:_Ultrasonic_Mind_Waves', '/wiki/Bat_Controlling:_Ultrasonic_Mind_Waves', '/wiki/Batt%C5%8Djutsu', '/wiki/Batt%C5%8Djutsu', '/wiki/Beast_Human_Clone', '/wiki/Beast_Human_Clone', '/wiki/Beast_Sealing_Technique', '/wiki/Beast_Sealing_Technique', '/wiki/Beast_Tearing_Gale_Palm', '/wiki/Beast_Tearing_Gale_Palm', '/wiki/Beast_Tearing_Palm', '/wiki/Beast_Tearing_Palm', '/wiki/Beast-Human_Fury_Kicks', '/wiki/Beast-Human_Needle_Senbon', '/wiki/Bee_Bomb_Technique', '/wiki/Bee_Bomb_Technique', '/wiki/Bee_Honey_Technique', '/wiki/Bee_Honey_Technique', '/wiki/Beeswax_Clone', '/wiki/Beeswax_Clone', '/wiki/Beheading_Prison_Chop', '/wiki/Beigoma', '/wiki/Bell_Barrier_Technique', '/wiki/Bell_Barrier_Technique', '/wiki/Bell-Flowered_Lightning_Blade', '/wiki/Bell-Flowered_Lightning_Blade', '/wiki/Big_Ball_Rasengan', '/wiki/Big_Ball_Rasengan', '/wiki/Big_Ball_Rasengan:_Rising_Attack', '/wiki/Big_Ball_Rasengan:_Rising_Attack', '/wiki/Big_Ball_Rasenshuriken', '/wiki/Big_Ball_Rasenshuriken', '/wiki/Big_Ball_Spiralling_Serial_Spheres', '/wiki/Big_Ball_Spiralling_Serial_Zone_Spheres', '/wiki/Big_Ball_Spiralling_Serial_Zone_Spheres', '/wiki/Big_Ball:_Tailed_Beast_Rasenshuriken', '/wiki/Big_Powder_Bang', '/wiki/Big_Truth-Seeking_Ball', '/wiki/Biguro', '/wiki/Biguro', '/wiki/Binding_Smoke_Prison', '/wiki/Binding_Smoke_Prison', '/wiki/Binding_Snake_Glare_Spell', '/wiki/Binding_Snake_Glare_Spell', '/wiki/Biting_Cut', '/wiki/Biting_Cut', '/wiki/Black_Dream', '/wiki/Black_Dream', '/wiki/Black_Holy_Hammer', '/wiki/Black_Iron_Fist', '/wiki/Black_Iron_Fist', '/wiki/Black_Lightning', '/wiki/Black_Lightning', '/wiki/Black_Needle_Stab', '/wiki/Black_Passing_Secret_Fang_Technique_Machine_One_Shot', '/wiki/Black_Passing_Secret_Fang_Technique_Machine_One_Shot', '/wiki/Black_Rain', '/wiki/Black_Rain', '/wiki/Black_Receiver', '/wiki/Black_Receiver', '/wiki/Black_Secret_Technique_Flame_Filling_Flower', '/wiki/Black_Secret_Technique_Flame_Filling_Flower', '/wiki/Black_Secret_Technique_Machine_One_Shot', '/wiki/Black_Secret_Technique_Machine_One_Shot', '/wiki/Black_Secret_Technique_Machine_Two_Shot', '/wiki/Black_Secret_Technique_Machine_Two_Shot', '/wiki/Black_Secret_Technique_Manipulated_Flame_Scorpion_Play', '/wiki/Black_Secret_Technique_Manipulated_Flame_Scorpion_Play', '/wiki/Black_Secret_Technique_%E2%80%94_Machine_Triple_Shot', '/wiki/Black_Secret_Technique_%E2%80%94_Machine_Triple_Shot', '/wiki/Black_Secret_Technique:_Black_Iron', '/wiki/Black_Secret_Technique:_Black_Iron', '/wiki/Black_Secret_Technique_Revolving_Flame_Arson', '/wiki/Black_Secret_Technique_Revolving_Flame_Arson', '/wiki/Black_Secret_Technique:_Salamander', '/wiki/Black_Secret_Technique:_Salamander', '/wiki/Black_Secret_Technique:_Three_Great_Ky%C5%8Dgen', '/wiki/Black_Secret_Technique:_Three_Great_Ky%C5%8Dgen', '/wiki/Black_Secret_Technique:_Three_Great_Tragedies', '/wiki/Black_Secret_Technique:_Three_Great_Tragedies', '/wiki/Black_Spider_Lily', '/wiki/Black_Spider_Lily', '/wiki/Black_Tornado', '/wiki/Black_Tornado', '/wiki/Blade_Concealed_in_Glamour', '/wiki/Blade_of_Wind', '/wiki/Blade_of_Wind', '/wiki/Blade_of_Wind_Barrage', '/wiki/Blade_of_Wind_Barrage', '/wiki/Blade_of_Wind_Hurricane', '/wiki/Blade_of_Wind_Hurricane', '/wiki/Blasting_Ice_Crystal', '/wiki/Blasting_Ice_Crystal', '/wiki/Blastsword_Technique:_Blasting_Bridle_Repeating_Death', '/wiki/Blastsword_Technique:_Blasting_Bridle_Repeating_Death', '/wiki/Blastsword:_Earth_Rupture', '/wiki/Blastsword:_Earth_Rupture', '/wiki/Blaze_Release:_Dragon_Flame_Release_Song_Technique', '/wiki/Blaze_Release:_Flame_Formation_Wall_Technique', '/wiki/Blaze_Release:_Great_Fireball_Technique', '/wiki/Blaze_Release:_Great_Fireball_Technique', '/wiki/Blaze_Release:_Honoikazuchi', '/wiki/Blaze_Release:_Honoikazuchi', '/wiki/Blaze_Release:_Kagutsuchi', '/wiki/Blaze_Release:_Kagutsuchi', '/wiki/Blaze_Release:_Kagutsuchi_%E2%80%94_Flying_Flame', '/wiki/Blaze_Release:_Kagutsuchi_%E2%80%94_Flying_Flame', '/wiki/Blaze_Release:_Kagutsuchi_%E2%80%94_Heaven_Step', '/wiki/Blaze_Release:_Kagutsuchi_%E2%80%94_Heaven_Step', '/wiki/Blaze_Release:_Kagutsuchi_%E2%80%94_Porcupine', '/wiki/Blaze_Release:_Kagutsuchi_%E2%80%94_Porcupine', '/wiki/Blaze_Release:_Susanoo_Kagutsuchi', '/wiki/Blaze_Release:_Susanoo_Kagutsuchi', '/wiki/Blaze_Release:_Susanoo_%C5%8Cdachi', '/wiki/Blaze_Release:_Yasaka_Magatama', '/wiki/Blaze_Release:_Yasaka_Magatama', '/wiki/Blazing_Lightning_Kunai', '/wiki/Blazing_Lightning_Kunai', '/wiki/Blazing_Shuriken_Dance', '/wiki/Blazing_Shuriken_Dance', '/wiki/Blinding_Bubbles_Technique', '/wiki/Blinding_Bubbles_Technique', '/wiki/Blinding_Wide_Sand_Formation:_Noise', '/wiki/Blinding_Wide_Sand_Formation:_Noise', '/wiki/Blocking_Technique_Absorption_Seal', '/wiki/Blocking_Technique_Absorption_Seal', '/wiki/Blood_Dragon_Ascension', '/wiki/Blood_Dragon_Ascension', '/wiki/Blood_Needle', '/wiki/Blood_Needle', '/wiki/Blood_Transformation_Technique', '/wiki/Blood_Transformation_Technique', '/wiki/Bloody_Mist_Absorption_Technique', '/wiki/Bloody_Mist_Absorption_Technique', '/wiki/Bloody_Mist_Sword_Art:_Bone_Mutilation', '/wiki/Bloody_Mist_Sword_Art:_Bone_Mutilation', '/wiki/Bluntsword:_Spin_Strike', '/wiki/Bluntsword:_Spin_Strike', '/wiki/Body_Alteration', '/wiki/Body_Alteration', '/wiki/Body_Coating', '/wiki/Body_Coating', '/wiki/Body_Controlling_Technique', '/wiki/Body_Controlling_Technique', '/wiki/Body_Elimination_Technique', '/wiki/Body_Elimination_Technique', '/wiki/Body_Flicker_Technique', '/wiki/Body_Flicker_Technique', '/wiki/Body_Fluid_Shedding_Technique', '/wiki/Body_Fluid_Shedding_Technique', '/wiki/Body_Oxidation_Technique', '/wiki/Body_Oxidation_Technique', '/wiki/Body_Pathway_Derangement', '/wiki/Body_Pathway_Derangement', '/wiki/Body_Recreation_Technique', '/wiki/Body_Recreation_Technique', '/wiki/Body_Replacement_Technique', '/wiki/Body_Replacement_Technique', '/wiki/Body_Revival_Technique', '/wiki/Body_Revival_Technique', '/wiki/Boil_Release:_Flower_Repentance_Technique', '/wiki/Boil_Release:_Flower_Repentance_Technique', '/wiki/Boil_Release:_Skilled_Mist_Technique', '/wiki/Boil_Release:_Skilled_Mist_Technique', '/wiki/Boil_Release:_Steam_Explosion', '/wiki/Boil_Release:_Steam_Explosion', '/wiki/Boil_Release:_Unrivalled_Strength', '/wiki/Boil_Release:_Unrivalled_Strength', '/wiki/Bolting_Blossom', '/wiki/Special:Categories', '/wiki/Category:Naruto', '/wiki/Local_Sitemap']\n"
     ]
    }
   ],
   "source": [
    "print(link_list)"
   ]
  },
  {
   "cell_type": "code",
   "execution_count": 16,
   "metadata": {},
   "outputs": [],
   "source": [
    "#  for child in soup.descendants:\n",
    "\n",
    "#         if child.name:\n",
    "#             print(child.name)"
   ]
  },
  {
   "cell_type": "code",
   "execution_count": 20,
   "metadata": {},
   "outputs": [
    {
     "data": {
      "text/plain": [
       "[]"
      ]
     },
     "execution_count": 20,
     "metadata": {},
     "output_type": "execute_result"
    }
   ],
   "source": [
    "soup.find_all('a href')"
   ]
  },
  {
   "cell_type": "code",
   "execution_count": 10,
   "metadata": {
    "scrolled": true
   },
   "outputs": [
    {
     "data": {
      "text/plain": [
       "'https://medium.com/@spaw.co/how-to-extract-content-from-a-div-tag-using-beautifulsoup-in-python-45c4acedd727'"
      ]
     },
     "execution_count": 10,
     "metadata": {},
     "output_type": "execute_result"
    }
   ],
   "source": [
    "div = soup.find_all('div', class_='pi-item pi-data pi-item-spacing pi-border-color' )\n",
    "\n",
    "'''https://medium.com/@spaw.co/how-to-extract-content-from-a-div-tag-using-beautifulsoup-in-python-45c4acedd727'''"
   ]
  },
  {
   "cell_type": "code",
   "execution_count": 15,
   "metadata": {
    "scrolled": true
   },
   "outputs": [],
   "source": [
    "div"
   ]
  },
  {
   "cell_type": "code",
   "execution_count": 101,
   "metadata": {},
   "outputs": [
    {
     "name": "stdout",
     "output_type": "stream",
     "text": [
      "** <div class=\"pi-item pi-data pi-item-spacing pi-border-color\" data-source=\"english tv\">\n",
      "<h3 class=\"pi-data-label pi-secondary-font\">English anime</h3>\n",
      "<div class=\"pi-data-value pi-font\">Fire Style: Demon Lantern</div>\n",
      "</div>\n",
      "** <div class=\"pi-item pi-data pi-item-spacing pi-border-color\" data-source=\"movie debut\">\n",
      "<h3 class=\"pi-data-label pi-secondary-font\">Movie</h3>\n",
      "<div class=\"pi-data-value pi-font\"><i><a href=\"/wiki/Naruto_the_Movie:_Blood_Prison\" title=\"Naruto the Movie: Blood Prison\">Naruto the Movie: Blood Prison</a></i></div>\n",
      "</div>\n",
      "** <div class=\"pi-item pi-data pi-item-spacing pi-border-color\" data-source=\"game debut\">\n",
      "<h3 class=\"pi-data-label pi-secondary-font\">Game</h3>\n",
      "<div class=\"pi-data-value pi-font\"><i><a href=\"/wiki/Naruto_Mobile\" title=\"Naruto Mobile\">Naruto Mobile</a></i></div>\n",
      "</div>\n",
      "** <div class=\"pi-item pi-data pi-item-spacing pi-border-color\" data-source=\"jutsu media\">\n",
      "<h3 class=\"pi-data-label pi-secondary-font\">Appears in</h3>\n",
      "<div class=\"pi-data-value pi-font\">Game, Movie</div>\n",
      "</div>\n",
      "** <div class=\"pi-item pi-data pi-item-spacing pi-border-color\" data-source=\"jutsu classification\">\n",
      "<h3 class=\"pi-data-label pi-secondary-font\">Classification</h3>\n",
      "<div class=\"pi-data-value pi-font\"><a href=\"/wiki/Ninjutsu\" title=\"Ninjutsu\">Ninjutsu</a></div>\n",
      "</div>\n",
      "** <div class=\"pi-item pi-data pi-item-spacing pi-border-color\" data-source=\"jutsu type\">\n",
      "<h3 class=\"pi-data-label pi-secondary-font\">Nature</h3>\n",
      "<div class=\"pi-data-value pi-font\"><div class=\"plainlist\"><ul><li><a href=\"/wiki/Fire_Release\" title=\"Fire Release\"><img alt=\"Nature Icon Fire\" data-image-key=\"Nature_Icon_Fire.svg\" data-image-name=\"Nature Icon Fire.svg\" data-relevant=\"0\" decoding=\"async\" height=\"18\" loading=\"lazy\" src=\"https://static.wikia.nocookie.net/naruto/images/b/bf/Nature_Icon_Fire.svg/revision/latest/scale-to-width-down/18?cb=20091012120333\" width=\"18\"/></a><a href=\"/wiki/Fire_Release\" title=\"Fire Release\">Fire Release</a></li></ul></div></div>\n",
      "</div>\n",
      "** <div class=\"pi-item pi-data pi-item-spacing pi-border-color\" data-source=\"jutsu class type\">\n",
      "<h3 class=\"pi-data-label pi-secondary-font\">Class</h3>\n",
      "<div class=\"pi-data-value pi-font\">Offensive</div>\n",
      "</div>\n",
      "** <div class=\"pi-item pi-data pi-item-spacing pi-border-color\" data-source=\"hand signs\">\n",
      "<h3 class=\"pi-data-label pi-secondary-font\">Hand seals</h3>\n",
      "<div class=\"pi-data-value pi-font\">Dog → Horse → Tiger</div>\n",
      "</div>\n",
      "** <div class=\"pi-item pi-data pi-item-spacing pi-border-color\" data-source=\"users\">\n",
      "<div class=\"pi-data-value pi-font\"><div><ul><li><a href=\"/wiki/Muku\" title=\"Muku\">Muku</a></li><li><a href=\"/wiki/Ry%C5%ABzetsu\" title=\"Ryūzetsu\">Ryūzetsu</a></li></ul></div></div>\n",
      "</div>\n"
     ]
    }
   ],
   "source": [
    "for x in div:\n",
    "    print('**', x)"
   ]
  },
  {
   "cell_type": "code",
   "execution_count": 12,
   "metadata": {},
   "outputs": [
    {
     "data": {
      "text/plain": [
       "bs4.element.ResultSet"
      ]
     },
     "execution_count": 12,
     "metadata": {},
     "output_type": "execute_result"
    }
   ],
   "source": [
    "div[7].h3.text\n",
    "div_list = list(div)\n",
    "# type(div)\n"
   ]
  },
  {
   "cell_type": "code",
   "execution_count": 19,
   "metadata": {},
   "outputs": [
    {
     "name": "stdout",
     "output_type": "stream",
     "text": [
      "<div class=\"pi-item pi-data pi-item-spacing pi-border-color\" data-source=\"hand signs\">\n",
      "<h3 class=\"pi-data-label pi-secondary-font\">Hand seals</h3>\n",
      "<div class=\"pi-data-value pi-font\">Dog → Horse → Tiger</div>\n",
      "</div>\n"
     ]
    }
   ],
   "source": [
    "# print(div_list)\n",
    "# print(div_list[7])"
   ]
  },
  {
   "cell_type": "code",
   "execution_count": 80,
   "metadata": {},
   "outputs": [
    {
     "data": {
      "text/plain": [
       "'Dog → Horse → Tiger'"
      ]
     },
     "execution_count": 80,
     "metadata": {},
     "output_type": "execute_result"
    }
   ],
   "source": [
    "div[7].div.text"
   ]
  },
  {
   "cell_type": "code",
   "execution_count": 82,
   "metadata": {},
   "outputs": [
    {
     "name": "stdout",
     "output_type": "stream",
     "text": [
      "Dog → Horse → Tiger\n"
     ]
    }
   ],
   "source": [
    "print(div[7].div.text)"
   ]
  },
  {
   "cell_type": "code",
   "execution_count": 56,
   "metadata": {
    "collapsed": true,
    "jupyter": {
     "outputs_hidden": true
    }
   },
   "outputs": [
    {
     "name": "stdout",
     "output_type": "stream",
     "text": [
      "{'attrs': {'class': ['pi-item',\n",
      "                     'pi-data',\n",
      "                     'pi-item-spacing',\n",
      "                     'pi-border-color'],\n",
      "           'data-source': 'hand signs'},\n",
      " 'can_be_empty_element': False,\n",
      " 'cdata_list_attributes': {'*': ['class', 'accesskey', 'dropzone'],\n",
      "                           'a': ['rel', 'rev'],\n",
      "                           'area': ['rel'],\n",
      "                           'form': ['accept-charset'],\n",
      "                           'icon': ['sizes'],\n",
      "                           'iframe': ['sandbox'],\n",
      "                           'link': ['rel', 'rev'],\n",
      "                           'object': ['archive'],\n",
      "                           'output': ['for'],\n",
      "                           'td': ['headers'],\n",
      "                           'th': ['headers']},\n",
      " 'contents': ['\\n',\n",
      "              <h3 class=\"pi-data-label pi-secondary-font\">Hand seals</h3>,\n",
      "              '\\n',\n",
      "              <div class=\"pi-data-value pi-font\">Dog → Horse → Tiger</div>,\n",
      "              '\\n'],\n",
      " 'hidden': False,\n",
      " 'known_xml': False,\n",
      " 'name': 'div',\n",
      " 'namespace': None,\n",
      " 'next_element': '\\n',\n",
      " 'next_sibling': '\\n',\n",
      " 'parent': <section class=\"pi-item pi-group pi-border-color\">\n",
      "<h2 class=\"pi-item pi-header pi-secondary-font pi-item-spacing pi-secondary-background\">Data</h2>\n",
      "<div class=\"pi-item pi-data pi-item-spacing pi-border-color\" data-source=\"jutsu classification\">\n",
      "<h3 class=\"pi-data-label pi-secondary-font\">Classification</h3>\n",
      "<div class=\"pi-data-value pi-font\"><a href=\"/wiki/Ninjutsu\" title=\"Ninjutsu\">Ninjutsu</a></div>\n",
      "</div>\n",
      "<div class=\"pi-item pi-data pi-item-spacing pi-border-color\" data-source=\"jutsu type\">\n",
      "<h3 class=\"pi-data-label pi-secondary-font\">Nature</h3>\n",
      "<div class=\"pi-data-value pi-font\"><div class=\"plainlist\"><ul><li><a href=\"/wiki/Fire_Release\" title=\"Fire Release\"><img alt=\"Nature Icon Fire\" data-image-key=\"Nature_Icon_Fire.svg\" data-image-name=\"Nature Icon Fire.svg\" data-relevant=\"0\" decoding=\"async\" height=\"18\" loading=\"lazy\" src=\"https://static.wikia.nocookie.net/naruto/images/b/bf/Nature_Icon_Fire.svg/revision/latest/scale-to-width-down/18?cb=20091012120333\" width=\"18\"/></a><a href=\"/wiki/Fire_Release\" title=\"Fire Release\">Fire Release</a></li></ul></div></div>\n",
      "</div>\n",
      "<div class=\"pi-item pi-data pi-item-spacing pi-border-color\" data-source=\"jutsu class type\">\n",
      "<h3 class=\"pi-data-label pi-secondary-font\">Class</h3>\n",
      "<div class=\"pi-data-value pi-font\">Offensive</div>\n",
      "</div>\n",
      "<div class=\"pi-item pi-data pi-item-spacing pi-border-color\" data-source=\"hand signs\">\n",
      "<h3 class=\"pi-data-label pi-secondary-font\">Hand seals</h3>\n",
      "<div class=\"pi-data-value pi-font\">Dog → Horse → Tiger</div>\n",
      "</div>\n",
      "</section>,\n",
      " 'parser_class': <class 'bs4.BeautifulSoup'>,\n",
      " 'prefix': None,\n",
      " 'preserve_whitespace_tags': {'pre', 'textarea'},\n",
      " 'previous_element': '\\n',\n",
      " 'previous_sibling': '\\n',\n",
      " 'sourceline': 1877,\n",
      " 'sourcepos': 0}\n"
     ]
    }
   ],
   "source": [
    "from pprint import pprint\n",
    "pprint(vars(div[7]))"
   ]
  },
  {
   "cell_type": "code",
   "execution_count": 105,
   "metadata": {},
   "outputs": [],
   "source": [
    "seal_dict = {\n",
    "    \n",
    "    'jutsu_name':'', 'hand_seals':''\n",
    "}"
   ]
  },
  {
   "cell_type": "code",
   "execution_count": 90,
   "metadata": {},
   "outputs": [
    {
     "name": "stdout",
     "output_type": "stream",
     "text": [
      "<h3 class=\"pi-data-label pi-secondary-font\">English anime</h3>\n",
      "<h3 class=\"pi-data-label pi-secondary-font\">Movie</h3>\n",
      "<h3 class=\"pi-data-label pi-secondary-font\">Game</h3>\n",
      "<h3 class=\"pi-data-label pi-secondary-font\">Appears in</h3>\n",
      "<h3 class=\"pi-data-label pi-secondary-font\">Classification</h3>\n",
      "<h3 class=\"pi-data-label pi-secondary-font\">Nature</h3>\n",
      "<h3 class=\"pi-data-label pi-secondary-font\">Class</h3>\n",
      "<h3 class=\"pi-data-label pi-secondary-font\">Hand seals</h3>\n",
      "None\n"
     ]
    }
   ],
   "source": [
    "for item in div:\n",
    "    print(item.h3)"
   ]
  },
  {
   "cell_type": "code",
   "execution_count": 107,
   "metadata": {},
   "outputs": [
    {
     "ename": "AttributeError",
     "evalue": "'NoneType' object has no attribute 'text'",
     "output_type": "error",
     "traceback": [
      "\u001b[1;31m---------------------------------------------------------------------------\u001b[0m",
      "\u001b[1;31mAttributeError\u001b[0m                            Traceback (most recent call last)",
      "\u001b[1;32m<ipython-input-107-8f44ad8f8ac6>\u001b[0m in \u001b[0;36m<module>\u001b[1;34m\u001b[0m\n\u001b[0;32m      1\u001b[0m \u001b[1;32mfor\u001b[0m \u001b[0mitem\u001b[0m \u001b[1;32min\u001b[0m \u001b[0mdiv\u001b[0m\u001b[1;33m:\u001b[0m\u001b[1;33m\u001b[0m\u001b[1;33m\u001b[0m\u001b[0m\n\u001b[0;32m      2\u001b[0m     \u001b[1;32mif\u001b[0m \u001b[0mitem\u001b[0m \u001b[1;32mis\u001b[0m \u001b[1;32mnot\u001b[0m \u001b[1;32mNone\u001b[0m\u001b[1;33m:\u001b[0m\u001b[1;33m\u001b[0m\u001b[1;33m\u001b[0m\u001b[0m\n\u001b[1;32m----> 3\u001b[1;33m         \u001b[1;32mif\u001b[0m \u001b[0mitem\u001b[0m\u001b[1;33m.\u001b[0m\u001b[0mh3\u001b[0m\u001b[1;33m.\u001b[0m\u001b[0mtext\u001b[0m \u001b[1;33m==\u001b[0m \u001b[1;34m'English anime'\u001b[0m\u001b[1;33m:\u001b[0m\u001b[1;33m\u001b[0m\u001b[1;33m\u001b[0m\u001b[0m\n\u001b[0m\u001b[0;32m      4\u001b[0m             \u001b[0mseal_dict\u001b[0m\u001b[1;33m[\u001b[0m\u001b[1;34m'jutsu_name'\u001b[0m\u001b[1;33m]\u001b[0m \u001b[1;33m=\u001b[0m \u001b[0mitem\u001b[0m\u001b[1;33m.\u001b[0m\u001b[0mdiv\u001b[0m\u001b[1;33m.\u001b[0m\u001b[0mtext\u001b[0m\u001b[1;33m\u001b[0m\u001b[1;33m\u001b[0m\u001b[0m\n\u001b[0;32m      5\u001b[0m         \u001b[1;32mif\u001b[0m \u001b[0mitem\u001b[0m\u001b[1;33m.\u001b[0m\u001b[0mh3\u001b[0m\u001b[1;33m.\u001b[0m\u001b[0mtext\u001b[0m \u001b[1;33m==\u001b[0m \u001b[1;34m'Hand seals'\u001b[0m\u001b[1;33m:\u001b[0m\u001b[1;33m\u001b[0m\u001b[1;33m\u001b[0m\u001b[0m\n",
      "\u001b[1;31mAttributeError\u001b[0m: 'NoneType' object has no attribute 'text'"
     ]
    }
   ],
   "source": [
    "for item in div:\n",
    "    if item is not None:\n",
    "        if item.h3.text == 'English anime':\n",
    "            seal_dict['jutsu_name'] = item.div.text\n",
    "        if item.h3.text == 'Hand seals':\n",
    "            #print(item.div.text)\n",
    "            seal_dict['hand_seals'] = item.div.text\n",
    "\n",
    "    #print(item.h3.text)"
   ]
  },
  {
   "cell_type": "code",
   "execution_count": 108,
   "metadata": {},
   "outputs": [
    {
     "data": {
      "text/plain": [
       "{'jutsu_name': 'Fire Style: Demon Lantern', 'hand_seals': 'Dog → Horse → Tiger'}"
      ]
     },
     "execution_count": 108,
     "metadata": {},
     "output_type": "execute_result"
    }
   ],
   "source": [
    "seal_dict"
   ]
  },
  {
   "cell_type": "code",
   "execution_count": null,
   "metadata": {},
   "outputs": [],
   "source": []
  }
 ],
 "metadata": {
  "kernelspec": {
   "display_name": "Python 3 (ipykernel)",
   "language": "python",
   "name": "python3"
  },
  "language_info": {
   "codemirror_mode": {
    "name": "ipython",
    "version": 3
   },
   "file_extension": ".py",
   "mimetype": "text/x-python",
   "name": "python",
   "nbconvert_exporter": "python",
   "pygments_lexer": "ipython3",
   "version": "3.9.18"
  }
 },
 "nbformat": 4,
 "nbformat_minor": 4
}
